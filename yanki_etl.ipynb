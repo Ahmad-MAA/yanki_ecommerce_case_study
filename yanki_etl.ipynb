{
 "cells": [
  {
   "cell_type": "code",
   "execution_count": null,
   "metadata": {},
   "outputs": [],
   "source": [
    "! Pip install Pandas"
   ]
  },
  {
   "cell_type": "code",
   "execution_count": null,
   "metadata": {},
   "outputs": [],
   "source": [
    "! Pip install Numpy"
   ]
  },
  {
   "cell_type": "markdown",
   "metadata": {},
   "source": [
    "## Importing the Necessary Tools"
   ]
  },
  {
   "cell_type": "code",
   "execution_count": null,
   "metadata": {},
   "outputs": [],
   "source": [
    "import pandas as pd\n",
    "import numpy as np"
   ]
  },
  {
   "cell_type": "markdown",
   "metadata": {},
   "source": [
    "### Extracting Layer"
   ]
  },
  {
   "cell_type": "code",
   "execution_count": null,
   "metadata": {},
   "outputs": [],
   "source": [
    "yanki_df = pd.read_csv(r'data_set\\raw_data\\yanki_ecommerce.csv')"
   ]
  },
  {
   "cell_type": "code",
   "execution_count": null,
   "metadata": {},
   "outputs": [],
   "source": [
    "yanki_df.head()"
   ]
  },
  {
   "cell_type": "code",
   "execution_count": null,
   "metadata": {},
   "outputs": [],
   "source": [
    "yanki_df.info()"
   ]
  },
  {
   "cell_type": "code",
   "execution_count": null,
   "metadata": {},
   "outputs": [],
   "source": [
    "yanki_df.columns"
   ]
  },
  {
   "cell_type": "code",
   "execution_count": null,
   "metadata": {},
   "outputs": [],
   "source": [
    "#drop missing values\n",
    "yanki_df.dropna (subset=['Order_ID', 'Customer_ID'], inplace=True)"
   ]
  },
  {
   "cell_type": "code",
   "execution_count": null,
   "metadata": {},
   "outputs": [],
   "source": [
    "yanki_df.info()"
   ]
  },
  {
   "cell_type": "code",
   "execution_count": null,
   "metadata": {},
   "outputs": [],
   "source": [
    "# Convert Order_date from string to datetime object\n",
    "yanki_df['Order_Date'] = pd.to_datetime(yanki_df['Order_Date'])"
   ]
  },
  {
   "cell_type": "code",
   "execution_count": null,
   "metadata": {},
   "outputs": [],
   "source": [
    "# customer table\n",
    "customer_df = yanki_df[['Customer_ID', 'Customer_Name', 'Email', 'Phone_Number']].copy().drop_duplicates().reset_index(drop=True)"
   ]
  },
  {
   "cell_type": "code",
   "execution_count": null,
   "metadata": {},
   "outputs": [],
   "source": [
    "customer_df.head()"
   ]
  },
  {
   "cell_type": "code",
   "execution_count": null,
   "metadata": {},
   "outputs": [],
   "source": [
    "products_df = yanki_df[['Product_ID', 'Product_Name', 'Brand', 'Category','Price']].copy().drop_duplicates().reset_index(drop=True)\n",
    "products_df.head()"
   ]
  },
  {
   "cell_type": "code",
   "execution_count": null,
   "metadata": {},
   "outputs": [],
   "source": [
    "yanki_df.columns"
   ]
  },
  {
   "cell_type": "code",
   "execution_count": null,
   "metadata": {},
   "outputs": [],
   "source": [
    "# shipping_address_df\n",
    "shipping_address_df = yanki_df[['Customer_ID', 'Shipping_Address', 'City', 'State', 'Country', \\\n",
    "                                'Postal_Code']].copy().drop_duplicates().reset_index(drop=True)\n",
    "shipping_address_df.index.name = 'shipping_ID'\n",
    "shipping_address_df = shipping_address_df.reset_index()\n",
    "shipping_address_df.head()"
   ]
  },
  {
   "cell_type": "code",
   "execution_count": null,
   "metadata": {},
   "outputs": [],
   "source": [
    "# Order_df\n",
    "orders_df = yanki_df[['Order_ID', 'Customer_ID', 'Product_ID', 'Quantity', 'Total_Price', \\\n",
    "                        'Order_Date']].copy().drop_duplicates().reset_index(drop=True)\n",
    "orders_df.head()"
   ]
  },
  {
   "cell_type": "code",
   "execution_count": null,
   "metadata": {},
   "outputs": [],
   "source": [
    "#payment_method_df\n",
    "payment_method_df = yanki_df[['Order_ID', 'Payment_Method', 'Transaction_Status']].copy().drop_duplicates().reset_index(drop=True)\n",
    "\n",
    "payment_method_df.head()"
   ]
  },
  {
   "cell_type": "code",
   "execution_count": null,
   "metadata": {},
   "outputs": [],
   "source": [
    "# save the tables to cavs\n",
    "customer_df.to_csv(r'data_set/clean_data/customers.csv', index=False)\n",
    "products_df.to_csv(r'data_set/clean_data/products.csv', index=False)\n",
    "orders_df.to_csv(r'data_set/clean_data/orders.csv', index=False)\n",
    "shipping_address_df.to_csv(r'data_set/clean_data/shipping_address.csv', index=False)\n",
    "payment_method_df.to_csv(r'data_set/clean_data/payment_method.csv', index=False)"
   ]
  },
  {
   "cell_type": "code",
   "execution_count": null,
   "metadata": {},
   "outputs": [],
   "source": [
    "! pip install psycopg2"
   ]
  },
  {
   "cell_type": "code",
   "execution_count": null,
   "metadata": {},
   "outputs": [],
   "source": [
    "import psycopg2"
   ]
  },
  {
   "cell_type": "code",
   "execution_count": null,
   "metadata": {},
   "outputs": [],
   "source": [
    "def get_db_connection():\n",
    "    connection = psycopg2.connect(\n",
    "        host = 'localhost',\n",
    "        database = 'yanki_ecommerce',\n",
    "        user= 'postgres',\n",
    "        password= 'password'\n",
    "    )\n",
    "    return connection"
   ]
  },
  {
   "cell_type": "code",
   "execution_count": null,
   "metadata": {},
   "outputs": [],
   "source": [
    "conn = get_db_connection()"
   ]
  },
  {
   "cell_type": "code",
   "execution_count": null,
   "metadata": {},
   "outputs": [],
   "source": [
    "# Create our SQL tables\n",
    "def create_tables():\n",
    "    conn = get_db_connection()\n",
    "    cursor = conn.cursor()\n",
    "    create_table_query = '''\n",
    "                            CREATE SCHEMA IF NOT EXISTS yanki;\n",
    "                            DROP TABLE IF EXISTS yanki.customers CASCADE;\n",
    "                            DROP TABLE IF EXISTS yanki.products CASCADE;\n",
    "                            DROP TABLE IF EXISTS yanki.shipping_address CASCADE;\n",
    "                            DROP TABLE IF EXISTS yanki.orders CASCADE;\n",
    "                            DROP TABLE IF EXISTS yanki.payment_method CASCADE;\n",
    "                            \n",
    "                            CREATE TABLE IF NOT EXISTS yanki.customers (\n",
    "                                Customer_ID UUID PRIMARY KEY,\n",
    "                                Customer_Name TEXT,\n",
    "                                Email TEXT,\n",
    "                                Phone_Number TEXT\n",
    "                            );\n",
    "\n",
    "                            CREATE TABLE IF NOT EXISTS yanki.products (\n",
    "                                Product_ID UUID PRIMARY KEY,\n",
    "                                Product_Name TEXT,\n",
    "                                Brand TEXT,\n",
    "                                Category TEXT,\n",
    "                                Price FLOAT\n",
    "                                );\n",
    "\n",
    "                            CREATE TABLE IF NOT EXISTS yanki.shipping_address (\n",
    "                                shipping_ID SERIAL PRIMARY KEY,\n",
    "                                Customer_ID UUID,\n",
    "                                Shipping_Address TEXT,\n",
    "                                City TEXT,\n",
    "                                State TEXT,\n",
    "                                Country TEXT,\n",
    "                                Postal_Code INTEGER,\n",
    "                                FOREIGN KEY(Customer_ID) REFERENCES yanki.customers(Customer_ID)\n",
    "                                );\n",
    "                            \n",
    "                            CREATE TABLE IF NOT EXISTS yanki.orders (\n",
    "                                Order_ID UUID PRIMARY KEY,\n",
    "                                Customer_ID UUID,\n",
    "                                Product_ID UUID,\n",
    "                                Quantity INTEGER,\n",
    "                                Total_Price FLOAT,\n",
    "                                Order_Date DATE,\n",
    "                                FOREIGN KEY (Customer_ID) REFERENCES yanki.customers (Customer_ID),\n",
    "                                FOREIGN KEY (Product_ID) REFERENCES yanki.products (Product_ID)\n",
    "                            );\n",
    "\n",
    "\n",
    "                            CREATE TABLE IF NOT EXISTS yanki.payment_method (\n",
    "                                Order_ID UUID,\n",
    "                                Payment_Method TEXT,\n",
    "                                Transaction_Status TEXT,\n",
    "                                FOREIGN KEY (Order_ID) REFERENCES yanki.orders (Order_ID)\n",
    "                            );'''\n",
    "    cursor.execute(create_table_query)\n",
    "    conn.commit()\n",
    "    cursor.close()\n",
    "    conn.close()"
   ]
  },
  {
   "cell_type": "code",
   "execution_count": null,
   "metadata": {},
   "outputs": [],
   "source": [
    "create_tables()"
   ]
  },
  {
   "cell_type": "code",
   "execution_count": null,
   "metadata": {},
   "outputs": [],
   "source": [
    "display (products_df.columns)\n",
    "display (products_df.info())"
   ]
  },
  {
   "cell_type": "code",
   "execution_count": null,
   "metadata": {},
   "outputs": [],
   "source": [
    "import csv\n",
    "def load_data_from_csv(csv_path):\n",
    "    conn=get_db_connection()\n",
    "    cursor = conn.cursor()\n",
    "    with open(csv_path, 'r') as file:\n",
    "        reader = csv.reader(file)\n",
    "        next(reader)\n",
    "        for row in reader:\n",
    "            cursor.execute('''\n",
    "                                INSERT INTO yanki.customers (Customer_ID, Customer_Name, Email, Phone_Number)\n",
    "                                VALUES (%s, %s, %s, %s);''',\n",
    "                                row\n",
    "            )\n",
    "    conn.commit()\n",
    "    cursor.close()\n",
    "    conn.close()\n",
    "csv_file_path = r'data_set\\clean_data\\customers.csv'\n",
    "load_data_from_csv(csv_file_path)"
   ]
  },
  {
   "cell_type": "code",
   "execution_count": null,
   "metadata": {},
   "outputs": [],
   "source": [
    "import csv\n",
    "def load_data_from_csv(csv_path):\n",
    "    conn=get_db_connection()\n",
    "    cursor = conn.cursor()\n",
    "    with open(csv_path, 'r') as file:\n",
    "        reader = csv.reader(file)\n",
    "        next(reader)\n",
    "        for row in reader:\n",
    "            cursor.execute('''\n",
    "                                INSERT INTO yanki.products (Product_ID, Product_Name, Brand, Category, Price)\n",
    "                                VALUES (%s, %s, %s, %s, %s);''',\n",
    "                                row\n",
    "            )\n",
    "    conn.commit()\n",
    "    cursor.close()\n",
    "    conn.close()\n",
    "csv_file_path = r'data_set\\clean_data\\products.csv'\n",
    "load_data_from_csv(csv_file_path)"
   ]
  },
  {
   "cell_type": "code",
   "execution_count": null,
   "metadata": {},
   "outputs": [],
   "source": [
    "import csv\n",
    "def load_data_from_csv(csv_path):\n",
    "    conn=get_db_connection()\n",
    "    cursor = conn.cursor()\n",
    "    with open(csv_path, 'r') as file:\n",
    "        reader = csv.reader(file)\n",
    "        next(reader)\n",
    "        for row in reader:\n",
    "            cursor.execute('''\n",
    "                                INSERT INTO yanki.shipping_address (shipping_ID,Customer_ID,  Shipping_Address, City, State, Country, Postal_Code)\n",
    "                                VALUES (%s, %s, %s, %s, %s, %s, %s);''',\n",
    "                                row\n",
    "            )\n",
    "    conn.commit()\n",
    "    cursor.close()\n",
    "    conn.close()\n",
    "csv_file_path = r'data_set\\clean_data\\shipping_address.csv'\n",
    "load_data_from_csv(csv_file_path)"
   ]
  },
  {
   "cell_type": "code",
   "execution_count": null,
   "metadata": {},
   "outputs": [],
   "source": [
    "import csv\n",
    "def load_data_from_csv(csv_path):\n",
    "    conn=get_db_connection()\n",
    "    cursor = conn.cursor()\n",
    "    with open(csv_path, 'r') as file:\n",
    "        reader = csv.reader(file)\n",
    "        next(reader)\n",
    "        for row in reader:\n",
    "            cursor.execute('''\n",
    "                                INSERT INTO yanki.orders (Order_ID, Customer_ID, Product_ID, Quantity,Total_Price, Order_Date)\n",
    "                                VALUES (%s, %s, %s, %s, %s, %s);''',\n",
    "                                row\n",
    "            )\n",
    "    conn.commit()\n",
    "    cursor.close()\n",
    "    conn.close()\n",
    "csv_file_path = r'data_set\\clean_data\\orders.csv'\n",
    "load_data_from_csv(csv_file_path)"
   ]
  },
  {
   "cell_type": "code",
   "execution_count": null,
   "metadata": {},
   "outputs": [],
   "source": [
    "import csv\n",
    "def load_data_from_csv(csv_path):\n",
    "    conn=get_db_connection()\n",
    "    cursor = conn.cursor()\n",
    "    with open(csv_path, 'r') as file:\n",
    "        reader = csv.reader(file)\n",
    "        next(reader)\n",
    "        for row in reader:\n",
    "            cursor.execute('''\n",
    "                                INSERT INTO yanki.payment_method (Order_ID, Payment_Method, Transaction_Status)\n",
    "                                VALUES (%s, %s, %s);''',\n",
    "                                row\n",
    "            )\n",
    "    conn.commit()\n",
    "    cursor.close()\n",
    "    conn.close()\n",
    "csv_file_path = r'data_set\\clean_data\\payment_method.csv'\n",
    "load_data_from_csv(csv_file_path)"
   ]
  },
  {
   "cell_type": "code",
   "execution_count": null,
   "metadata": {},
   "outputs": [],
   "source": [
    "payment_method_df.info() "
   ]
  },
  {
   "cell_type": "code",
   "execution_count": null,
   "metadata": {},
   "outputs": [],
   "source": []
  }
 ],
 "metadata": {
  "kernelspec": {
   "display_name": "base",
   "language": "python",
   "name": "python3"
  },
  "language_info": {
   "codemirror_mode": {
    "name": "ipython",
    "version": 3
   },
   "file_extension": ".py",
   "mimetype": "text/x-python",
   "name": "python",
   "nbconvert_exporter": "python",
   "pygments_lexer": "ipython3",
   "version": "3.12.4"
  }
 },
 "nbformat": 4,
 "nbformat_minor": 2
}
